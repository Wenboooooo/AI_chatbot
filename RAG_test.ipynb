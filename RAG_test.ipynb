{
 "cells": [
  {
   "cell_type": "code",
   "execution_count": 1,
   "metadata": {},
   "outputs": [],
   "source": [
    "OpenAI_API = \"sk-proj-Rl41N05dYzhdjkHneWI2T3BlbkFJXf1SmQ7Nth4wHBCgzHjO\""
   ]
  },
  {
   "cell_type": "code",
   "execution_count": 7,
   "metadata": {},
   "outputs": [],
   "source": [
    "import openai"
   ]
  },
  {
   "cell_type": "code",
   "execution_count": 8,
   "metadata": {},
   "outputs": [],
   "source": [
    "client = openai.AsyncOpenAI(api_key=OpenAI_API)"
   ]
  },
  {
   "cell_type": "code",
   "execution_count": 6,
   "metadata": {},
   "outputs": [],
   "source": [
    "import faiss\n",
    "import json\n",
    "import numpy as np\n",
    "from docx import Document\n",
    "from openai import OpenAI\n",
    "from autogen import AssistantAgent\n",
    "\n",
    "client = OpenAI(api_key=OpenAI_API)\n",
    "\n",
    "def extract_text_from_docx(file_path):\n",
    "    doc = Document(file_path)\n",
    "    return \"\\n\".join([para.text.strip() for para in doc.paragraphs if para.text.strip()])\n",
    "\n",
    "# 解析 .docx 和 .json 数据\n",
    "docx_text = extract_text_from_docx(\"AI Doc.docx\")\n",
    "\n",
    "with open(\"jetbay-intro.json\", \"r\", encoding=\"utf-8\") as f:\n",
    "    faq_data = json.load(f)\n",
    "\n",
    "# 构建知识库数据\n",
    "data = [{\"text\": docx_text, \"source\": \"docx\"}] + [{\"text\": item[\"question\"] + \" \" + item[\"answer\"], \"source\": \"json\"} for item in faq_data]\n",
    "\n",
    "# 计算文本嵌入\n",
    "def get_embedding(text):\n",
    "    response = client.embeddings.create(input=[text], model=\"text-embedding-ada-002\")  # Wrap input in a list\n",
    "    return np.array(response.data[0].embedding) \n",
    "\n",
    "embeddings = np.array([get_embedding(item[\"text\"]) for item in data])\n",
    "\n",
    "# 创建 FAISS 索引\n",
    "dimension = embeddings.shape[1]\n",
    "faiss_index = faiss.IndexFlatL2(dimension)\n",
    "faiss_index.add(embeddings)\n",
    "\n",
    "# 存储索引\n",
    "faiss.write_index(faiss_index, \"jetbay_faiss.index\")"
   ]
  },
  {
   "cell_type": "code",
   "execution_count": 4,
   "metadata": {},
   "outputs": [
    {
     "ename": "TypeError",
     "evalue": "ConversableAgent.__init__() got an unexpected keyword argument 'model_client_stream'",
     "output_type": "error",
     "traceback": [
      "\u001b[1;31m---------------------------------------------------------------------------\u001b[0m",
      "\u001b[1;31mTypeError\u001b[0m                                 Traceback (most recent call last)",
      "Cell \u001b[1;32mIn[4], line 24\u001b[0m\n\u001b[0;32m     16\u001b[0m agent_prompt \u001b[38;5;241m=\u001b[39m \u001b[38;5;124mf\u001b[39m\u001b[38;5;124m\"\"\"\u001b[39m\n\u001b[0;32m     17\u001b[0m \u001b[38;5;124mYou are an intelligent assistant in JetBay tasked with answering user queries based on the provided context.  \u001b[39m\n\u001b[0;32m     18\u001b[0m \u001b[38;5;124mUse the context information to generate precise, relevant, and natural responses.  \u001b[39m\n\u001b[0;32m     19\u001b[0m \u001b[38;5;124mDo not mention the existence of the context or that you are referencing it.  \u001b[39m\n\u001b[0;32m     20\u001b[0m \u001b[38;5;124m\"\"\"\u001b[39m\n\u001b[0;32m     23\u001b[0m \u001b[38;5;66;03m# **创建 LLM 代理**\u001b[39;00m\n\u001b[1;32m---> 24\u001b[0m llm_agent \u001b[38;5;241m=\u001b[39m \u001b[43mAssistantAgent\u001b[49m\u001b[43m(\u001b[49m\n\u001b[0;32m     25\u001b[0m \u001b[43m    \u001b[49m\u001b[43msystem_message\u001b[49m\u001b[38;5;241;43m=\u001b[39;49m\u001b[43magent_prompt\u001b[49m\u001b[43m,\u001b[49m\n\u001b[0;32m     26\u001b[0m \u001b[43m    \u001b[49m\u001b[43mname\u001b[49m\u001b[38;5;241;43m=\u001b[39;49m\u001b[38;5;124;43m\"\u001b[39;49m\u001b[38;5;124;43mllm\u001b[39;49m\u001b[38;5;124;43m\"\u001b[39;49m\u001b[43m,\u001b[49m\n\u001b[0;32m     27\u001b[0m \u001b[43m    \u001b[49m\u001b[43mmodel_client_stream\u001b[49m\u001b[38;5;241;43m=\u001b[39;49m\u001b[38;5;28;43;01mTrue\u001b[39;49;00m\u001b[43m,\u001b[49m\n\u001b[0;32m     28\u001b[0m \u001b[43m    \u001b[49m\u001b[43mllm_config\u001b[49m\u001b[38;5;241;43m=\u001b[39;49m\u001b[43m{\u001b[49m\n\u001b[0;32m     29\u001b[0m \u001b[43m        \u001b[49m\u001b[38;5;124;43m\"\u001b[39;49m\u001b[38;5;124;43mmodel\u001b[39;49m\u001b[38;5;124;43m\"\u001b[39;49m\u001b[43m:\u001b[49m\u001b[43m \u001b[49m\u001b[38;5;124;43m\"\u001b[39;49m\u001b[38;5;124;43mgpt-4o\u001b[39;49m\u001b[38;5;124;43m\"\u001b[39;49m\u001b[43m,\u001b[49m\n\u001b[0;32m     30\u001b[0m \u001b[43m        \u001b[49m\u001b[38;5;124;43m\"\u001b[39;49m\u001b[38;5;124;43mapi_key\u001b[39;49m\u001b[38;5;124;43m\"\u001b[39;49m\u001b[43m:\u001b[49m\u001b[43m \u001b[49m\u001b[43mOpenAI_API\u001b[49m\u001b[43m,\u001b[49m\n\u001b[0;32m     31\u001b[0m \u001b[43m        \u001b[49m\u001b[38;5;124;43m\"\u001b[39;49m\u001b[38;5;124;43mtemperature\u001b[39;49m\u001b[38;5;124;43m\"\u001b[39;49m\u001b[43m:\u001b[49m\u001b[43m \u001b[49m\u001b[38;5;241;43m0.7\u001b[39;49m\n\u001b[0;32m     32\u001b[0m \u001b[43m    \u001b[49m\u001b[43m}\u001b[49m\n\u001b[0;32m     33\u001b[0m \u001b[43m)\u001b[49m\n",
      "File \u001b[1;32mc:\\Users\\12024\\anaconda3\\envs\\avi-go\\Lib\\site-packages\\autogen\\agentchat\\assistant_agent.py:68\u001b[0m, in \u001b[0;36mAssistantAgent.__init__\u001b[1;34m(self, name, system_message, llm_config, is_termination_msg, max_consecutive_auto_reply, human_input_mode, description, **kwargs)\u001b[0m\n\u001b[0;32m     41\u001b[0m \u001b[38;5;28;01mdef\u001b[39;00m\u001b[38;5;250m \u001b[39m\u001b[38;5;21m__init__\u001b[39m(\n\u001b[0;32m     42\u001b[0m     \u001b[38;5;28mself\u001b[39m,\n\u001b[0;32m     43\u001b[0m     name: \u001b[38;5;28mstr\u001b[39m,\n\u001b[1;32m   (...)\u001b[0m\n\u001b[0;32m     50\u001b[0m     \u001b[38;5;241m*\u001b[39m\u001b[38;5;241m*\u001b[39mkwargs,\n\u001b[0;32m     51\u001b[0m ):\n\u001b[0;32m     52\u001b[0m \u001b[38;5;250m    \u001b[39m\u001b[38;5;124;03m\"\"\"Args:\u001b[39;00m\n\u001b[0;32m     53\u001b[0m \u001b[38;5;124;03m    name (str): agent name.\u001b[39;00m\n\u001b[0;32m     54\u001b[0m \u001b[38;5;124;03m    system_message (str): system message for the ChatCompletion inference.\u001b[39;00m\n\u001b[1;32m   (...)\u001b[0m\n\u001b[0;32m     66\u001b[0m \u001b[38;5;124;03m        [ConversableAgent](conversable_agent#init).\u001b[39;00m\n\u001b[0;32m     67\u001b[0m \u001b[38;5;124;03m    \"\"\"\u001b[39;00m\n\u001b[1;32m---> 68\u001b[0m     \u001b[38;5;28;43msuper\u001b[39;49m\u001b[43m(\u001b[49m\u001b[43m)\u001b[49m\u001b[38;5;241;43m.\u001b[39;49m\u001b[38;5;21;43m__init__\u001b[39;49m\u001b[43m(\u001b[49m\n\u001b[0;32m     69\u001b[0m \u001b[43m        \u001b[49m\u001b[43mname\u001b[49m\u001b[43m,\u001b[49m\n\u001b[0;32m     70\u001b[0m \u001b[43m        \u001b[49m\u001b[43msystem_message\u001b[49m\u001b[43m,\u001b[49m\n\u001b[0;32m     71\u001b[0m \u001b[43m        \u001b[49m\u001b[43mis_termination_msg\u001b[49m\u001b[43m,\u001b[49m\n\u001b[0;32m     72\u001b[0m \u001b[43m        \u001b[49m\u001b[43mmax_consecutive_auto_reply\u001b[49m\u001b[43m,\u001b[49m\n\u001b[0;32m     73\u001b[0m \u001b[43m        \u001b[49m\u001b[43mhuman_input_mode\u001b[49m\u001b[43m,\u001b[49m\n\u001b[0;32m     74\u001b[0m \u001b[43m        \u001b[49m\u001b[43mllm_config\u001b[49m\u001b[38;5;241;43m=\u001b[39;49m\u001b[43mllm_config\u001b[49m\u001b[43m,\u001b[49m\n\u001b[0;32m     75\u001b[0m \u001b[43m        \u001b[49m\u001b[43mdescription\u001b[49m\u001b[38;5;241;43m=\u001b[39;49m\u001b[43mdescription\u001b[49m\u001b[43m,\u001b[49m\n\u001b[0;32m     76\u001b[0m \u001b[43m        \u001b[49m\u001b[38;5;241;43m*\u001b[39;49m\u001b[38;5;241;43m*\u001b[39;49m\u001b[43mkwargs\u001b[49m\u001b[43m,\u001b[49m\n\u001b[0;32m     77\u001b[0m \u001b[43m    \u001b[49m\u001b[43m)\u001b[49m\n\u001b[0;32m     78\u001b[0m     \u001b[38;5;28;01mif\u001b[39;00m logging_enabled():\n\u001b[0;32m     79\u001b[0m         log_new_agent(\u001b[38;5;28mself\u001b[39m, \u001b[38;5;28mlocals\u001b[39m())\n",
      "\u001b[1;31mTypeError\u001b[0m: ConversableAgent.__init__() got an unexpected keyword argument 'model_client_stream'"
     ]
    }
   ],
   "source": [
    "# **定义 FAISS 检索代理**\n",
    "class FAISSRetriever:\n",
    "    def __init__(self, index_path, data):\n",
    "        self.index = faiss.read_index(index_path)\n",
    "        self.data = data\n",
    "    \n",
    "    def search(self, query, top_k=2):\n",
    "        query_embedding = get_embedding(query).reshape(1, -1)\n",
    "        D, I = self.index.search(query_embedding, top_k)\n",
    "        results = [self.data[i][\"text\"] for i in I[0]]\n",
    "        return results\n",
    "\n",
    "retriever = FAISSRetriever(\"jetbay_faiss.index\", data)\n",
    "\n",
    "\n",
    "agent_prompt = f\"\"\"\n",
    "You are an intelligent assistant in JetBay tasked with answering user queries based on the provided context.  \n",
    "Use the context information to generate precise, relevant, and natural responses.  \n",
    "Do not mention the existence of the context or that you are referencing it.  \n",
    "\"\"\"\n",
    "\n",
    "\n",
    "# **创建 LLM 代理**\n",
    "llm_agent = AssistantAgent(\n",
    "    system_message=agent_prompt,\n",
    "    name=\"llm\",\n",
    "    model_client_stream=True,\n",
    "    llm_config={\n",
    "        \"model\": \"gpt-4o\",\n",
    "        \"api_key\": OpenAI_API,\n",
    "        \"temperature\": 0.7\n",
    "    }\n",
    ")"
   ]
  },
  {
   "cell_type": "code",
   "execution_count": 80,
   "metadata": {},
   "outputs": [
    {
     "name": "stdout",
     "output_type": "stream",
     "text": [
      "[\"Founder Statement\\nJETBAY is at the forefront of integrating AI and Big Data to offer a more sustainable and intelligent flying experience. We pride ourselves on delivering solutions that are not only the fastest and most comprehensive but also cost-efficient, ensuring our customers always receive the best service possible.\\nIntroduction\\nFounded in 2020 with headquarters in Singapore and Shanghai, JETBAY has quickly expanded, establishing branch offices in Hong Kong, Beijing and Jakarta. By2026, we aim to strengthen our presence across East and Southeast Asia, with plans to set up offices in major global cities by 2030.\\nOur team of over 100 professionals brings unmatched expertise, with the management team averaging over20 years of industry experience.\\nBetween 2020 and 2023, our total revenue skyrocketed from USD 43 million to USD 150 million, reflecting an impressive average annual growth rate of 155%.\\nJETBAY specialises in crafting high-end charter experiences tailored to each client’s unique needs. Using real-time data and advanced algorithms, we seamlessly integrate resources to deliver optimal solutions and set an unmatched standard of excellence in service.\\nJETBAY is a premier charter technology platform headquartered in Singapore and Shanghai, with regional offices in Beijing, Hong Kong and Jakarta. We provide private, business, pet, cargo, medical, and group charter flight services to clients worldwide. Leveraging AI-driven analytics and an extensive network of partners, we deliver fast, efficient, and competitively priced charter solutions. Today, JETBAY stands as one of the world’s leading charter technology providers, seamlessly connecting global charters through our API.\\nSpecialising in tailored business jet solutions, we offer comprehensive, customised charter services across Asia to meet the unique needs of each client. By integrating real-time data and advanced algorithms, we provide highly competitive charter options and bespoke services that cater to the most discerning clients.\\nOur commitment to excellence was recognised in 2023/2024 by major media organisations. BRICS Finance named JETBAY the ‘Best Private Jet Charter Service Provider,’ while the Hurun Report awarded us the ‘Best Performance Award for Business Jet Charter Service Provider.’\\nCompany Statistic:\\nFounded: 2020\\nDeveloped Popular Routes: 500+\\nEmployee: 100+\\nAnnual Flight Completed: 5000+\\nOffices Around the World: 5 (Singapore, Shanghai, Hongkong, Beijing, Jakarta)\\nPartners Worldwide: 1000+\\nCorporate and Individual Clients: 10,000+\\nAvailable Fleet Worldwide: 10,000+\\nCompany Culture\\nOur Vision\\nJETBAY leverages big data and artificial intelligence to revolutionise private jet charter services, simplifying processes and delivering optimal flight solutions.\\nOur Mission\\nJETBAY is dedicated to integrating artificial intelligence and big data to provide advanced, sustainable flight experiences. We prioritise efficiency, comprehensive services, and cost-effectiveness, ensuring every client enjoys an exceptional service experience.\\nOur Values\\nAt JETBAY, we uphold integrity and innovation, focusing on building long-term partnerships while embedding sustainability into every service we provide.\\nCorporate Social Responsibility\\nIn recognition of its outstanding performance in business aviation and commitment to sustainable development, JETBAY was honoured with the “Influential Brand in the Business Aviation Industry” and “Carbon-Neutral Digital Pioneer” awards in 2024. By integrating advanced databases and intelligent technologies, JETBAY actively supports the industry’s transition to low-carbon operations.\\nEnvironmental Responsibility\\nJETBAY is widely recognised for its commitment to sustainability and cutting-edge innovation. Leveraging a proprietary database and AI platform, JETBAY optimises flight operations, minimises redundancies, and reduces empty legs. This enhances repositioning efficiency while significantly lowering our carbon footprint, setting a new standard in eco-conscious aviation.\\nServices Provided by JETBAY:\\nBusiness Charter\\nLeisure Charter\\nMedevac (JETBAY SOS)\\nLarge Group Charter\\nGroup Charter (Sports and Celebrities Tour)\\nHelicopter Charter\\nCargo Charter\\nCharter Process\\n1. ORDER\\nEnter your travel information and submit your request. Our system will match you with the best aircraft according to your needs.\\n2. CUSTOMISED PLAN\\nOur Private Charter Representative will discuss your needs and tailor an exclusive flight plan. We will recommend the best aircraft at the most competitive rate based on your needs.\\n3. PAYMENT\\nChoose your preferred payment option and securely complete your transaction.\\n4. TRIP PREPARATION\\nWe will arrange your cabin, meals, permits and keep you updated throughout the process.\\n5. ENJOY YOUR TRIP\\nNow, it's time to sit back, relax, and enjoy the journey.\\nJETBAY’s Competitive Edge\\n\\nJETBAY redefines the chartering experience with its advanced API interface, seamlessly connecting a global fleet and integrating worldwide repositioning resources. Through CRM integration and third-party platform connectivity, we enhance operational efficiency and deliver a superior, streamlined customer experience.\\nOur commitment to digital transformation ensures fast, efficient, and secure charter services that are fully compliant with industry standards. As a leader in the Asia-Pacific charter market, JETBAY prioritises transparent transactions and rigorous privacy measures, safeguarding client trust and confidence at every step.\\nWhy JETBAY\\nGlobal Coverage\\n5,000+ charter flights yearly, available 24/7.\\nAI-Powered Efficiency\\nUtilising our proprietary AI system, we accurately find the best aircraft and formulate your flight plan within 1-2 hours.\\nUncompromised Safety\\nPartnering with trusted experts, experienced pilots, and top-quality aircraft, JETBAY ensures the most reliable service.\\nIndustry Leader\\nWith over 100,000 satisfied customers and a 99% satisfaction rate, we are at the forefront of the charter industry in Asia.\\nComprehensive solutions\\nAccess to worldwide fleet – Expand your options\\nJETBAY goes beyond single-operator solutions, providing access to a vast range of aircraft and flexible plans. This empowers clients with unparalleled choice and adaptability, ensuring every charter is perfectly tailored to their specific needs.\\nCompetitive Pricing with Dedicated Support - rising above the competition\\nJETBAY sets itself apart from traditional charter brokers by offering not just highly competitive pricing but also comprehensive support. Our dedicated sales support team is available every step of the way, ensuring personalised assistance and seamless after-sales care. With our experienced professionals and strong market presence, we deliver unbeatable value and a truly client-centric experience.\\nOur Advantages\\nTailored Charter Solutions\\nAt JETBAY, we specialise in crafting bespoke charter services to meet the unique needs of each client. With a variety of customisable options, our advanced data-driven approach identifies the best global fleets and most competitive prices, offering a fast, seamless booking experience.\\nUnmatched Pricing Advantage\\nBy consolidating global repositioning resources, JETBAY significantly reduces operational costs, enabling us to deliver highly competitive pricing without compromising on quality.\\nService Excellence\\nService is at the heart of JETBAY. From helping clients choose the ideal aircraft to curating personalised, top-tier dining experiences, every detail is meticulously managed to deliver an exceptional and luxurious journey, all supported by dedicated, professional service.\\nPrivacy Protection\\nJETBAY upholds the strictest privacy standards, ensuring that all personal information and travel details are kept confidential and secure.\\nComprehensive Global Query System\\nDeveloped for industry professionals, our Global Capacity Query System provides instant access to essential aviation data, including flight availability and regulatory policies, to streamline operations and enhance decision-making efficiency ensuring a personalised and highly efficient service experience for every client.\\nFlight Management System\\nOur cutting-edge order processing platform simplifies workflows by synchronising data in real time, ensuring a personalised and highly efficient service experience for every client.\\nJETBAY Loyalty Programme\\nJETBAY values loyalty and cultivates long-term relationships by offering exclusive rewards, including travel loyalty programmes and periodic client benefits, as a token of our appreciation.\\nClient-Centric Solutions\\nIn the event of refunds or itinerary adjustments, JETBAY takes a proactive approach to explore multiple solutions, safeguarding client rights and providing peace of mind.\\nPartner with us\\nAt JETBAY, we build long-term partnerships by delivering solutions that drive business growth and streamline operations. From luxury hotels and resorts to airline partners, automotive brands to banks, travel agencies to other charter brokers, we are the engine to propel your business forward.\\nPartnering with Brokers and agencies – Focus on What Matters\\nJETBAY is more than just a top-tier distribution channel in the charter industry—we’re your reliable partner. By providing comprehensive backend support and simplifying contract processes, we enable brokers to focus on client relationships and business growth, ensuring every client need is met with speed and precision.\\nTravel, Logistics, and Payment Solutions - comprehensive solutions for your business\\nJETBAY is your one-stop solution for travel, logistics, and payment services, designed to simplify operations and boost efficiency. With innovative and reliable support, we become the driving force behind your growth, empowering your business through seamless collaboration and tailored solutions.\\nServices:\\nBusiness Charter\\nExperience the pinnacle of luxury and efficiency with our Business Charter. Enjoy tailored solutions for a seamless and comfortable journey, allowing you to fly directly to destinations where commercial flights are unavailable.\\nStay productive and make every minute count, focusing on your success while we handle all your travel needs.\\nGroup Charter\\nTravel as a team with JETBAY's group charter services, designed to cater to a wide range of group sizes—from 14-seater private jets to large commercial aircraft with hundreds of seats.\\nWe offer cost-effective solutions tailored to your specific needs, whether for a small team business trip or a large corporate event.\\n\\nMedical Charter\\nRecognising the urgency of Medevac services, JETBAY leverages its extensive global connections to swiftly find efficient solutions for your medical transportation needs.\\nYour safety is our top priority. We pair you with expert medical teams and offer rapid medical transportation solutions to ensure your well-being.\\nPet Travel\\nPlanning to bring your husky home to see the Northern Lights? We offer end-to-end pet travel expertise. Leave the worries to us.\\nJETBAY leads the pet charter market in East and Southeast Asia, with a 60% market share. Spare your fur kids separation anxiety with our Pet Charter service.\\nEvent Charter\\nWhether you're a celebrity planning a global tour or a passionate football fan eager to experience the World Cup firsthand, JETBAY offers tailored charter services to meet your needs.\\nOur services cater to various events, providing seamless and luxurious travel for celebrity tours, efficient transportation for sports events, and reliable solutions for concerts, festivals, and more.\\nTravel Charter\\nWhether you crave a lavish getaway in the Maldives or an unplanned skiing escapade in Hokkaido, we secure the ideal charter solution tailored to your preferences, ensuring exceptional value for your investment.\\nJETBAY offers personalised private jet charter services for you, your family, and friends, delivering a one-of-a-kind and customised flying experience.\\nMedevac\\nChoose JETBAY Medevac for your air medical transport needs because we offer comprehensive knowledge and expertise in all available aircraft options. With extensive experience in numerous successful medevac missions, we provide:\\nExtensive Aircraft Network\\nOur deep understanding of available aircraft ensures we select the most suitable option for your specific medical requirements.\\nSpecialist On-Board Care\\nOur flights are manned by specialist doctors who deliver personalised medical care tailored to your needs.\\nProven Excellence\\nWith a proven track record in safe and reliable air medical transport, we guarantee peace of mind during critical situations.\", 'What is JETBAY? JETBAY is a global private jet charter platform offering luxury business, pet, leisure, medical, and VIP charters with offices worldwide.', \"Where are JETBAY's offices located? JETBAY has offices in Singapore, Shanghai, and Hong Kong.\"]\n",
      "JetBay was founded in 2020. While specific profit figures are not provided, the company experienced significant revenue growth from USD 43 million in 2020 to USD 150 million in 2023, indicating substantial financial success and expansion.\n"
     ]
    }
   ],
   "source": [
    "chat_history = []\n",
    "\n",
    "# **执行查询**\n",
    "# query = \"Where are JETBAY's offices located?\"\n",
    "# query = \"Does JETBAY offer international flights?\"\n",
    "# query = \"What are the advantages of JetBay?\"\n",
    "# query = \"Why do I want to choose Jetbay?\"\n",
    "query = \"When was JetBay founded and how much profits does it generate?\"\n",
    "# query = \"who are you\"\n",
    "# query = \"what is jetbay?\"\n",
    "# query = \"How do I register in jetbay?\"\n",
    "# query = \"Can you help me arrange ground transportation?\"\n",
    "retrieved_context = retriever.search(query, top_k=3)\n",
    "print(retrieved_context)\n",
    "chat_history.append({\"role\": \"user\", \"content\": query})\n",
    "conversation = chat_history + [{\"role\": \"system\", \"content\": f\"Context: {retrieved_context}\"}]\n",
    "# **让 LLM 代理生成答案**\n",
    "# final_prompt = f\"\"\"\n",
    "# ### Context:\n",
    "# {retrieved_context}\n",
    "\n",
    "# ### User Query:\n",
    "# {query}\n",
    "\n",
    "# ### Response:\n",
    "# \"\"\"\n",
    "# final_prompt = f\"Context: {retrieved_context}\\n\\nUser: {query}\\n\\nTry to chat or answer the questions given the context, DO NOT MENTION you have context info to reference.\"\n",
    "# llm_response = llm_agent.generate_reply([{\"role\": \"user\", \"content\": final_prompt}])  # FIXED\n",
    "llm_response = llm_agent.generate_reply(conversation)\n",
    "chat_history.append({\"role\": \"assistant\", \"content\": llm_response})\n",
    "print(llm_response)"
   ]
  },
  {
   "cell_type": "code",
   "execution_count": 81,
   "metadata": {},
   "outputs": [
    {
     "data": {
      "text/plain": [
       "[{'role': 'user',\n",
       "  'content': 'When was JetBay founded and how much profits does it generate?'},\n",
       " {'role': 'assistant',\n",
       "  'content': 'JetBay was founded in 2020. While specific profit figures are not provided, the company experienced significant revenue growth from USD 43 million in 2020 to USD 150 million in 2023, indicating substantial financial success and expansion.'}]"
      ]
     },
     "execution_count": 81,
     "metadata": {},
     "output_type": "execute_result"
    }
   ],
   "source": [
    "chat_history"
   ]
  }
 ],
 "metadata": {
  "kernelspec": {
   "display_name": "avi-go",
   "language": "python",
   "name": "python3"
  },
  "language_info": {
   "codemirror_mode": {
    "name": "ipython",
    "version": 3
   },
   "file_extension": ".py",
   "mimetype": "text/x-python",
   "name": "python",
   "nbconvert_exporter": "python",
   "pygments_lexer": "ipython3",
   "version": "3.11.11"
  }
 },
 "nbformat": 4,
 "nbformat_minor": 2
}
