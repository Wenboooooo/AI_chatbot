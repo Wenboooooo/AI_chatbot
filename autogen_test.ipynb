{
 "cells": [
  {
   "cell_type": "code",
   "execution_count": 1,
   "metadata": {},
   "outputs": [
    {
     "data": {
      "text/plain": [
       "<Task pending name='Task-5' coro=<main() running at C:\\Users\\12024\\AppData\\Local\\Temp\\ipykernel_26980\\2135086875.py:13>>"
      ]
     },
     "execution_count": 1,
     "metadata": {},
     "output_type": "execute_result"
    },
    {
     "name": "stdout",
     "output_type": "stream",
     "text": [
      "---------- assistant ----------\n",
      "[FunctionCall(id='call_MVcnVaHs3ayacXXN1VM9EcD7', arguments='{}', name='get_current_time')]\n",
      "---------- assistant ----------\n",
      "[FunctionExecutionResult(content='The current time is 12:00 PM.', call_id='call_MVcnVaHs3ayacXXN1VM9EcD7')]\n",
      "---------- assistant ----------\n",
      "The current time is 12:00 PM.\n"
     ]
    }
   ],
   "source": [
    "import asyncio\n",
    "from autogen_ext.models.openai import OpenAIChatCompletionClient\n",
    "from autogen_agentchat.agents import AssistantAgent\n",
    "from autogen_agentchat.messages import TextMessage\n",
    "from autogen_agentchat.ui import Console\n",
    "from autogen_core import CancellationToken\n",
    "\n",
    "\n",
    "async def get_current_time() -> str:\n",
    "    return \"The current time is 12:00 PM.\"\n",
    "\n",
    "\n",
    "async def main() -> None:\n",
    "    model_client = OpenAIChatCompletionClient(\n",
    "        model=\"gpt-4o\",\n",
    "        api_key = \"sk-proj-Rl41N05dYzhdjkHneWI2T3BlbkFJXf1SmQ7Nth4wHBCgzHjO\"\n",
    "    )\n",
    "    agent = AssistantAgent(name=\"assistant\", model_client=model_client, tools=[get_current_time])\n",
    "\n",
    "    await Console(\n",
    "        agent.on_messages_stream(\n",
    "            [TextMessage(content=\"What is the current time?\", source=\"user\")], CancellationToken()\n",
    "        )\n",
    "    )\n",
    "\n",
    "\n",
    "asyncio.create_task(main())"
   ]
  }
 ],
 "metadata": {
  "kernelspec": {
   "display_name": "avi-go",
   "language": "python",
   "name": "python3"
  },
  "language_info": {
   "codemirror_mode": {
    "name": "ipython",
    "version": 3
   },
   "file_extension": ".py",
   "mimetype": "text/x-python",
   "name": "python",
   "nbconvert_exporter": "python",
   "pygments_lexer": "ipython3",
   "version": "3.11.11"
  }
 },
 "nbformat": 4,
 "nbformat_minor": 2
}
